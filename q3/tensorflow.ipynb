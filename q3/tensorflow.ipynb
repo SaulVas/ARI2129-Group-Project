{
 "cells": [
  {
   "cell_type": "markdown",
   "metadata": {},
   "source": [
    "# Data Augmentation Techniques With TensorFlow"
   ]
  },
  {
   "cell_type": "code",
   "execution_count": 9,
   "metadata": {},
   "outputs": [],
   "source": [
    "import os\n",
    "from tensorflow.keras.preprocessing.image import ImageDataGenerator, img_to_array, load_img, array_to_img\n",
    "import numpy as np"
   ]
  },
  {
   "cell_type": "markdown",
   "metadata": {},
   "source": [
    "## Define data augmentation transformations"
   ]
  },
  {
   "cell_type": "code",
   "execution_count": 10,
   "metadata": {},
   "outputs": [],
   "source": [
    "rotation_datagen = ImageDataGenerator(rotation_range=40)\n",
    "brightness_datagen_1 = ImageDataGenerator(brightness_range=[0.5, 1.0])\n",
    "brightness_datagen_2 = ImageDataGenerator(brightness_range=[1.0, 2.0])\n",
    "horizontal_flip_datagen = ImageDataGenerator(horizontal_flip=True)\n",
    "vertical_flip_datagen = ImageDataGenerator(vertical_flip=True)\n",
    "\n",
    "datagens = [\n",
    "    ('rotation_[-40,40]', rotation_datagen),\n",
    "    ('brightness_[0.5,1.0]', brightness_datagen_1),\n",
    "    ('brightness_[1.0,2.0]', brightness_datagen_2),\n",
    "    ('flipped_horizontal_random', horizontal_flip_datagen),\n",
    "    ('flipped_vertical_random', vertical_flip_datagen),\n",
    "]"
   ]
  },
  {
   "cell_type": "markdown",
   "metadata": {},
   "source": [
    "## Apply Augmentation to the images"
   ]
  },
  {
   "cell_type": "code",
   "execution_count": 11,
   "metadata": {},
   "outputs": [],
   "source": [
    "input_dir = '../images'\n",
    "save_dir = 'tensorflow_augmented_images'\n",
    "\n",
    "image_files = [f for f in os.listdir(input_dir) if f.endswith(('.jpeg'))]\n",
    "images = [(fname, load_img(os.path.join(input_dir, fname))) for fname in image_files]\n",
    "\n",
    "for fname, image in images:\n",
    "    x = img_to_array(image)\n",
    "    x = np.expand_dims(x, axis=0)\n",
    "    \n",
    "    for j, (augmentation_name, datagen) in enumerate(datagens):\n",
    "        augmented_image = next(datagen.flow(x, batch_size=1))[0].astype('uint8')\n",
    "        original_name, ext = os.path.splitext(fname)\n",
    "        save_path = os.path.join(save_dir, f'{original_name}_{augmentation_name}{ext}')\n",
    "        array_to_img(augmented_image).save(save_path)\n"
   ]
  }
 ],
 "metadata": {
  "kernelspec": {
   "display_name": "Python 3 (ipykernel)",
   "language": "python",
   "name": "python3"
  },
  "language_info": {
   "codemirror_mode": {
    "name": "ipython",
    "version": 3
   },
   "file_extension": ".py",
   "mimetype": "text/x-python",
   "name": "python",
   "nbconvert_exporter": "python",
   "pygments_lexer": "ipython3",
   "version": "3.11.8"
  }
 },
 "nbformat": 4,
 "nbformat_minor": 4
}
