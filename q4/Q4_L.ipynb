{
 "cells": [
  {
   "cell_type": "markdown",
   "metadata": {},
   "source": [
    "# Augmentation Techniques from Scratch"
   ]
  },
  {
   "cell_type": "code",
   "execution_count": null,
   "metadata": {},
   "outputs": [],
   "source": [
    "import numpy as np\n",
    "import os\n",
    "import cv2\n",
    "import matplotlib.pyplot as plt"
   ]
  },
  {
   "cell_type": "markdown",
   "metadata": {},
   "source": [
    "# Define the directory paths"
   ]
  },
  {
   "cell_type": "code",
   "execution_count": null,
   "metadata": {},
   "outputs": [],
   "source": [
    "dataset_dir = r\"C:\\Users\\luca2\\OneDrive\\Desktop\\ARI2129-Group-Project\\images\"\n",
    "save_dir = 'augmented_images_L'  # Directory to save augmented images\n",
    "os.makedirs(save_dir, exist_ok=True)"
   ]
  },
  {
   "cell_type": "markdown",
   "metadata": {},
   "source": [
    "# Function to apply contrast variation and shearing  "
   ]
  },
  {
   "cell_type": "code",
   "execution_count": null,
   "metadata": {},
   "outputs": [],
   "source": [
    "def apply_shearing(image, shear_factor):\n",
    "    height, width = image.shape[:2]\n",
    "    M = np.float32([[1, shear_factor, 0],\n",
    "                    [0, 1, 0]])\n",
    "    sheared_image = cv2.warpAffine(image, M, (width, height))\n",
    "    return sheared_image\n",
    "\n",
    " \n",
    "def apply_contrast(image, alpha):\n",
    "    contrast_image = np.clip(alpha * image, 0, 255).astype(np.uint8)\n",
    "    return contrast_image"
   ]
  },
  {
   "cell_type": "markdown",
   "metadata": {},
   "source": [
    "# Function to save images"
   ]
  },
  {
   "cell_type": "code",
   "execution_count": null,
   "metadata": {},
   "outputs": [],
   "source": [
    "def save_image(image, path):\n",
    "    cv2.imwrite(path, image)"
   ]
  },
  {
   "cell_type": "markdown",
   "metadata": {},
   "source": [
    "# Apply augmentations to each image and save the results"
   ]
  },
  {
   "cell_type": "code",
   "execution_count": null,
   "metadata": {},
   "outputs": [],
   "source": [
    "# List all image files in the dataset directory\n",
    "image_files = [os.path.join(dataset_dir, fname) for fname in os.listdir(dataset_dir) if fname.endswith('.jpg') or fname.endswith('.png') or fname.endswith('.jpeg')]\n",
    "\n",
    "\n",
    "# Apply augmentations to each image and save the results\n",
    "for img_path in image_files:\n",
    "    # Load image\n",
    "    image = cv2.imread(img_path)\n",
    "    file_name = os.path.splitext(os.path.basename(img_path))[0]\n",
    "\n",
    "    # Apply shearing\n",
    "    sheared_image = apply_shearing(image, shear_factor=0.5)  # Shearing by a factor of 0.5\n",
    "    sheared_image_path = os.path.join(save_dir, f\"{file_name}_sheared.jpg\")\n",
    "    save_image(sheared_image, sheared_image_path)\n",
    "\n",
    "    # Apply contrast variation\n",
    "    contrast_image = apply_contrast(image, alpha=2.0)  # Increase contrast by a factor of 2.0\n",
    "    contrast_image_path = os.path.join(save_dir, f\"{file_name}_contrast.jpg\")\n",
    "    save_image(contrast_image, contrast_image_path)"
   ]
  }
 ],
 "metadata": {
  "kernelspec": {
   "display_name": "Python 3",
   "language": "python",
   "name": "python3"
  },
  "language_info": {
   "codemirror_mode": {
    "name": "ipython",
    "version": 3
   },
   "file_extension": ".py",
   "mimetype": "text/x-python",
   "name": "python",
   "nbconvert_exporter": "python",
   "pygments_lexer": "ipython3",
   "version": "3.11.9"
  }
 },
 "nbformat": 4,
 "nbformat_minor": 2
}
